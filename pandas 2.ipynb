{
  "nbformat": 4,
  "nbformat_minor": 0,
  "metadata": {
    "colab": {
      "provenance": []
    },
    "kernelspec": {
      "name": "python3",
      "display_name": "Python 3"
    },
    "language_info": {
      "name": "python"
    }
  },
  "cells": [
    {
      "cell_type": "code",
      "execution_count": 1,
      "metadata": {
        "id": "92q0Iw1qePem"
      },
      "outputs": [],
      "source": [
        "# import Package\n",
        "import pandas as pd\n",
        "import numpy as np\n"
      ]
    },
    {
      "cell_type": "code",
      "source": [
        "pd.__version__"
      ],
      "metadata": {
        "colab": {
          "base_uri": "https://localhost:8080/",
          "height": 36
        },
        "id": "6SkDCo_heauT",
        "outputId": "763ea6fa-6490-4984-e70b-1f3e0771cb4d"
      },
      "execution_count": 2,
      "outputs": [
        {
          "output_type": "execute_result",
          "data": {
            "text/plain": [
              "'2.2.2'"
            ],
            "application/vnd.google.colaboratory.intrinsic+json": {
              "type": "string"
            }
          },
          "metadata": {},
          "execution_count": 2
        }
      ]
    },
    {
      "cell_type": "code",
      "source": [
        "number_series = pd.Series([1, 2, 3, 4, 5])\n",
        "print(number_series)"
      ],
      "metadata": {
        "colab": {
          "base_uri": "https://localhost:8080/"
        },
        "id": "8Byo4hDKei_j",
        "outputId": "971acd64-6d23-4865-ef5c-599fab04b252"
      },
      "execution_count": 3,
      "outputs": [
        {
          "output_type": "stream",
          "name": "stdout",
          "text": [
            "0    1\n",
            "1    2\n",
            "2    3\n",
            "3    4\n",
            "4    5\n",
            "dtype: int64\n"
          ]
        }
      ]
    },
    {
      "cell_type": "code",
      "source": [
        "number_series= pd.Series([1, 2, 3, 4, 5], index=['a', 'b', 'c', 'd', 'e'],name='Number')\n",
        "print(number_series)"
      ],
      "metadata": {
        "colab": {
          "base_uri": "https://localhost:8080/"
        },
        "id": "npCO4tx-enBu",
        "outputId": "66f9b4b4-b884-4f1b-a5e5-53504a4f6136"
      },
      "execution_count": 4,
      "outputs": [
        {
          "output_type": "stream",
          "name": "stdout",
          "text": [
            "a    1\n",
            "b    2\n",
            "c    3\n",
            "d    4\n",
            "e    5\n",
            "Name: Number, dtype: int64\n"
          ]
        }
      ]
    },
    {
      "cell_type": "code",
      "source": [
        "print(number_series[0])\n",
        "print(number_series['a'])\n",
        "\n",
        ""
      ],
      "metadata": {
        "colab": {
          "base_uri": "https://localhost:8080/"
        },
        "id": "54UfhKf2eqWr",
        "outputId": "7cfedae2-35e3-4821-c31e-a9850b73ea3e"
      },
      "execution_count": 5,
      "outputs": [
        {
          "output_type": "stream",
          "name": "stdout",
          "text": [
            "1\n",
            "1\n"
          ]
        },
        {
          "output_type": "stream",
          "name": "stderr",
          "text": [
            "<ipython-input-5-9d94995d9a79>:1: FutureWarning: Series.__getitem__ treating keys as positions is deprecated. In a future version, integer keys will always be treated as labels (consistent with DataFrame behavior). To access a value by position, use `ser.iloc[pos]`\n",
            "  print(number_series[0])\n"
          ]
        }
      ]
    },
    {
      "cell_type": "code",
      "source": [
        "some_2D_array = np.random.randint(4,7,(7, 5))\n",
        "print(some_2D_array)\n",
        ""
      ],
      "metadata": {
        "colab": {
          "base_uri": "https://localhost:8080/"
        },
        "id": "fz1xYlsleuVB",
        "outputId": "ddaee12e-e281-475a-e1c0-18d21fdd763e"
      },
      "execution_count": 6,
      "outputs": [
        {
          "output_type": "stream",
          "name": "stdout",
          "text": [
            "[[6 4 5 5 6]\n",
            " [5 5 4 4 4]\n",
            " [6 5 6 5 6]\n",
            " [5 6 4 5 6]\n",
            " [5 4 6 5 6]\n",
            " [6 4 6 4 4]\n",
            " [6 4 6 5 6]]\n"
          ]
        }
      ]
    },
    {
      "cell_type": "code",
      "source": [
        "first_dataframe = pd.DataFrame(some_2D_array, columns=['Akshay', 'Devashish', 'Divy', 'Monika','aradhya'])\n",
        "print(first_dataframe)"
      ],
      "metadata": {
        "colab": {
          "base_uri": "https://localhost:8080/"
        },
        "id": "FFLBfoEMexak",
        "outputId": "b0284f02-7eb8-46d8-d623-b88d0e12f118"
      },
      "execution_count": 7,
      "outputs": [
        {
          "output_type": "stream",
          "name": "stdout",
          "text": [
            "   Akshay  Devashish  Divy  Monika  aradhya\n",
            "0       6          4     5       5        6\n",
            "1       5          5     4       4        4\n",
            "2       6          5     6       5        6\n",
            "3       5          6     4       5        6\n",
            "4       5          4     6       5        6\n",
            "5       6          4     6       4        4\n",
            "6       6          4     6       5        6\n"
          ]
        }
      ]
    },
    {
      "cell_type": "code",
      "source": [],
      "metadata": {
        "id": "tql7IRRme41k"
      },
      "execution_count": null,
      "outputs": []
    }
  ]
}