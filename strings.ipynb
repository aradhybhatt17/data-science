{
  "nbformat": 4,
  "nbformat_minor": 0,
  "metadata": {
    "colab": {
      "provenance": [],
      "authorship_tag": "ABX9TyN7GOp/FvInFCFLJgdrJogS",
      "include_colab_link": true
    },
    "kernelspec": {
      "name": "python3",
      "display_name": "Python 3"
    },
    "language_info": {
      "name": "python"
    }
  },
  "cells": [
    {
      "cell_type": "markdown",
      "metadata": {
        "id": "view-in-github",
        "colab_type": "text"
      },
      "source": [
        "<a href=\"https://colab.research.google.com/github/aradhybhatt17/data-science/blob/main/strings.ipynb\" target=\"_parent\"><img src=\"https://colab.research.google.com/assets/colab-badge.svg\" alt=\"Open In Colab\"/></a>"
      ]
    },
    {
      "cell_type": "code",
      "execution_count": 1,
      "metadata": {
        "colab": {
          "base_uri": "https://localhost:8080/"
        },
        "id": "cvWE5A9FqzqX",
        "outputId": "f1c8f70e-9632-4940-9d36-e3549bcb4d17"
      },
      "outputs": [
        {
          "output_type": "stream",
          "name": "stdout",
          "text": [
            "Hello, World!\n",
            "Python Programming\n",
            "Yeh ek\n",
            "multiline string hai.\n",
            "P\n",
            "n\n",
            "Pyth\n",
            "Pyth\n",
            "thon\n",
            "Hello World\n",
            "HelloHelloHello\n",
            "  python programming  \n",
            "  PYTHON PROGRAMMING  \n",
            "Python Programming\n",
            "  Java Programming  \n",
            "['Python', 'Programming']\n",
            "22\n",
            "Mera naam Rahul hai aur meri umar 20 saal hai.\n",
            "Mera naam Rahul hai aur meri umar 20 saal hai.\n",
            "Namaste, Amit!\n",
            "15\n",
            "30\n",
            "(15, 5)\n"
          ]
        }
      ],
      "source": [
        "# Python mein strings aur functions ka introduction\n",
        "\n",
        "# Ek string ek sequence hota hai characters ka jo quotes (' ya \") ke andar likha jata hai.\n",
        "# Yeh immutable hota hai, matlab ek baar create hone ke baad isme changes nahi kar sakte.\n",
        "\n",
        "# String ka declaration\n",
        "a = \"Hello, World!\"  # Double quotes ka use\n",
        "b = 'Python Programming'  # Single quotes ka use\n",
        "print(a)\n",
        "print(b)\n",
        "\n",
        "# Multiline string triple quotes (''' ya \"\"\") se likha jata hai\n",
        "c = '''Yeh ek\n",
        "multiline string hai.'''\n",
        "print(c)\n",
        "\n",
        "# String indexing aur slicing\n",
        "s = \"Python\"\n",
        "print(s[0])  # 'P' - Indexing (0-based index hota hai)\n",
        "print(s[-1])  # 'n' - Negative indexing last se count karta hai\n",
        "print(s[0:4])  # 'Pyth' - Slicing, yeh 0 se 3 tak lega (4 exclude hota hai)\n",
        "print(s[:4])  # 'Pyth' - Starting index default 0 hota hai\n",
        "print(s[2:])  # 'thon' - End index default last hota hai\n",
        "\n",
        "# Strings immutable hote hain\n",
        "# s[0] = 'J'  # Yeh error dega kyunki hum strings modify nahi kar sakte\n",
        "\n",
        "# String concatenation aur repetition\n",
        "s1 = \"Hello\"\n",
        "s2 = \"World\"\n",
        "print(s1 + \" \" + s2)  # Concatenation (Do strings ko jodna)\n",
        "print(s1 * 3)  # String repetition\n",
        "\n",
        "# String methods\n",
        "string = \"  Python Programming  \"\n",
        "print(string.lower())  # Lowercase mein convert karega\n",
        "print(string.upper())  # Uppercase mein convert karega\n",
        "print(string.strip())  # Leading aur trailing spaces hata dega\n",
        "print(string.replace(\"Python\", \"Java\"))  # Replace karega\n",
        "print(string.split())  # Default space ke basis pe split karega\n",
        "\n",
        "# String ka length pata karne ke liye len() function use hota hai\n",
        "print(len(string))\n",
        "\n",
        "# String formatting\n",
        "name = \"Rahul\"\n",
        "age = 20\n",
        "print(f\"Mera naam {name} hai aur meri umar {age} saal hai.\")  # f-string method\n",
        "print(\"Mera naam {} hai aur meri umar {} saal hai.\".format(name, age))  # format() method\n",
        "\n",
        "# Functions ka introduction\n",
        "# Function ek block hota hai jo specific task perform karta hai\n",
        "\n",
        "def greet(name):  # Function definition\n",
        "    \"\"\"Yeh function ek naam leta hai aur uska greeting return karta hai\"\"\"\n",
        "    return \"Namaste, \" + name + \"!\"\n",
        "\n",
        "print(greet(\"Amit\"))  # Function call\n",
        "\n",
        "# Function with default parameter\n",
        "def add(a, b=5):  # b default 5 hoga agar user koi value na de\n",
        "    return a + b\n",
        "\n",
        "print(add(10))  # 10 + 5 = 15\n",
        "print(add(10, 20))  # 10 + 20 = 30\n",
        "\n",
        "# Function with multiple return values\n",
        "def calculate(a, b):\n",
        "    sum = a + b\n",
        "    diff = a - b\n",
        "    return sum, diff  # Multiple values return kar raha hai\n",
        "\n",
        "result = calculate(10, 5)\n",
        "print(result)  # Tuple ke form mein values return hongi (15, 5)\n",
        "\n",
        "# Yeh sab kuch basic cheezein hain jo string aur functions ke baare mein jaanna zaroori hai."
      ]
    }
  ]
}